{
  "cells": [
    {
      "cell_type": "markdown",
      "metadata": {
        "id": "view-in-github",
        "colab_type": "text"
      },
      "source": [
        "<a href=\"https://colab.research.google.com/github/OSZTERYAN/La-os/blob/main/Produ%C3%A7%C3%A3o_de_La%C3%A7os.ipynb\" target=\"_parent\"><img src=\"https://colab.research.google.com/assets/colab-badge.svg\" alt=\"Open In Colab\"/></a>"
      ]
    },
    {
      "cell_type": "markdown",
      "metadata": {
        "id": "d8GhXAnhNH0s"
      },
      "source": []
    },
    {
      "cell_type": "code",
      "execution_count": null,
      "metadata": {
        "colab": {
          "background_save": true,
          "base_uri": "https://localhost:8080/"
        },
        "id": "FUKwtecbMhxH",
        "outputId": "957e76e4-78a5-458a-f985-da6f3076e04a"
      },
      "outputs": [
        {
          "name": "stdout",
          "output_type": "stream",
          "text": [
            "Bem-Vindo ao jogo, neste jogo vc tem que adivinhar o numero secreto,vc começa com 20 pontos e cada vez que vc erra vc perde 1 ponto\n",
            "GAME OVER\n",
            "Tente um numero menor\n",
            "Tente um numero menor\n",
            "Tente um numero menor\n",
            "Tente um numero menor\n",
            "Tente um numero menor\n",
            "Tente um numero menor\n",
            "Tente um numero menor\n",
            "Tente um numero menor\n",
            "Tente um numero menor\n",
            "Tente um numero menor\n",
            "Tente um numero menor\n",
            "Tente um numero menor\n",
            "Tente um numero menor\n",
            "Tente um numero menor\n",
            "Tente um numero menor\n",
            "Tente um numero menor\n",
            "Tente um numero menor\n",
            "Tente um numero menor\n",
            "Tente um numero menor\n",
            "Tente um numero menor\n",
            "Tente um numero menor\n",
            "Tente um numero menor\n",
            "Tente um numero menor\n",
            "Tente um numero menor\n",
            "Tente um numero menor\n"
          ]
        }
      ],
      "source": [
        "print ('Bem-Vindo ao jogo, neste jogo vc tem que adivinhar o numero secreto,vc começa com 20 pontos e cada vez que vc erra vc perde 1 ponto')\n",
        "import random\n",
        "secret = random.randint(1,100)\n",
        "resp = 0\n",
        "counter = 0\n",
        "calc = 0\n",
        " while resp != secret:\n",
        "   counter = counter + 1\n",
        "   resp = int(input('Tente adivinhar o numero secreto entre 0 e 100 '))\n",
        "   if resp <= 0 or resp > 100:\n",
        "      print('Valor desconsiderado, tente novamente')\n",
        "      continue\n",
        "   if resp < secret:\n",
        "        print('Tente um numero maior')\n",
        "        calc = resp - secret\n",
        "        if calc <= 7:\n",
        "          print ('Sua tentativa esta muito proxima ')\n",
        "        elif calc > 7 and calc <= 20:\n",
        "          print ('Sua tentativa esta quente !')\n",
        "   if resp > secret:\n",
        "        print('Tente um numero menor')\n",
        "        calc = resp + secret\n",
        "        if calc <= 7:\n",
        "          print ('Sua tntativa esta proxima ')\n",
        "        elif calc > 7 and calc <= 20:\n",
        "          print ('Sua tentativa esta quente !')\n",
        "\n",
        "\n",
        "print('parabens vc  acertou, com ', counter,'tentativas')"
      ]
    },
    {
      "cell_type": "code",
      "execution_count": null,
      "metadata": {
        "id": "DXIxVYNUNHTy"
      },
      "outputs": [],
      "source": []
    }
  ],
  "metadata": {
    "colab": {
      "provenance": [],
      "authorship_tag": "ABX9TyMPF0gOC3Ktc3U3JE5E3cfy",
      "include_colab_link": true
    },
    "kernelspec": {
      "display_name": "Python 3",
      "name": "python3"
    },
    "language_info": {
      "name": "python"
    }
  },
  "nbformat": 4,
  "nbformat_minor": 0
}